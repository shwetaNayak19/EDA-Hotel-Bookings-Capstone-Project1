{
  "nbformat": 4,
  "nbformat_minor": 0,
  "metadata": {
    "colab": {
      "name": "EDA Hotel Booking project1.ipynb",
      "provenance": [],
      "authorship_tag": "ABX9TyNMTHNyTdXfIK+iArPTyT32",
      "include_colab_link": true
    },
    "kernelspec": {
      "name": "python3",
      "display_name": "Python 3"
    },
    "language_info": {
      "name": "python"
    }
  },
  "cells": [
    {
      "cell_type": "markdown",
      "metadata": {
        "id": "view-in-github",
        "colab_type": "text"
      },
      "source": [
        "<a href=\"https://colab.research.google.com/github/shwetaNayak19/EDA-Hotel-Bookings-Capstone-Project1/blob/main/EDA_Hotel_Booking_project1.ipynb\" target=\"_parent\"><img src=\"https://colab.research.google.com/assets/colab-badge.svg\" alt=\"Open In Colab\"/></a>"
      ]
    },
    {
      "cell_type": "markdown",
      "metadata": {
        "id": "Y06xIdG26kRF"
      },
      "source": [
        "## <b> Have you ever wondered when the best time of year to book a hotel room is? Or the optimal length of stay in order to get the best daily rate? What if you wanted to predict whether or not a hotel was likely to receive a disproportionately high number of special requests? This hotel booking dataset can help you explore those questions!\n",
        "\n",
        "## <b>This data set contains booking information for a city hotel and a resort hotel, and includes information such as when the booking was made, length of stay, the number of adults, children, and/or babies, and the number of available parking spaces, among other things. All personally identifying information has been removed from the data. </b>\n",
        "\n",
        "## <b> Explore and analyze the data to discover important factors that govern the bookings. </b>"
      ]
    },
    {
      "cell_type": "markdown",
      "source": [
        "# **Hotel Bookings Data Analysis and Visualization.**"
      ],
      "metadata": {
        "id": "2RVvFBGiYV0Y"
      }
    },
    {
      "cell_type": "markdown",
      "source": [
        "![](https://drive.google.com/uc?export=view&id=1GykwjAeVe6rNMzDwT39Vmm0KdUsik4pj)\n"
      ],
      "metadata": {
        "id": "1Axffsxfa7b-"
      }
    },
    {
      "cell_type": "markdown",
      "source": [
        "###**Importing required Libraries for analysis.**"
      ],
      "metadata": {
        "id": "MfHhoEcnY1c0"
      }
    },
    {
      "cell_type": "code",
      "metadata": {
        "id": "dByMsuzT8Tnw"
      },
      "source": [
        "import pandas as pd # for data handling and manipulation\n",
        "import matplotlib.pyplot as plt # for data visualization\n",
        "import seaborn as sns # for data visualization\n",
        "# magic function to render graphs/charts in notebook\n",
        "%matplotlib inline  "
      ],
      "execution_count": 1,
      "outputs": []
    },
    {
      "cell_type": "code",
      "source": [
        "#set max columns display limit\n",
        "pd.set_option(\"display.max_columns\", 40)\n",
        "#set style for graph\n",
        "sns.set_style(style='darkgrid')\n",
        "\n",
        "# Setting fontsizes,fontweight,label weight for labels,titles.\n",
        "plt.rcParams[\"font.weight\"] = \"bold\"\n",
        "plt.rcParams[\"axes.labelweight\"] = \"bold\"\n",
        "plt.rcParams[\"axes.titlesize\"] = 25\n",
        "plt.rcParams[\"axes.titleweight\"] = 'bold'\n",
        "plt.rcParams['xtick.labelsize']=15\n",
        "plt.rcParams['ytick.labelsize']=15\n",
        "plt.rcParams[\"axes.labelsize\"] = 20\n",
        "plt.rcParams[\"legend.fontsize\"] = 15\n",
        "plt.rcParams[\"legend.title_fontsize\"] = 15"
      ],
      "metadata": {
        "id": "vqKHZudQVNt1"
      },
      "execution_count": 2,
      "outputs": []
    },
    {
      "cell_type": "markdown",
      "source": [
        "###**Mounting Drive**"
      ],
      "metadata": {
        "id": "V4lQYqKVfDGk"
      }
    },
    {
      "cell_type": "code",
      "source": [
        "from google.colab import drive\n",
        "drive.mount('/content/drive/')"
      ],
      "metadata": {
        "colab": {
          "base_uri": "https://localhost:8080/"
        },
        "id": "VsBZOo3Dgt_X",
        "outputId": "f3e71af0-280f-4a8f-db15-3e23305eb20c"
      },
      "execution_count": 3,
      "outputs": [
        {
          "output_type": "stream",
          "name": "stdout",
          "text": [
            "Mounted at /content/drive/\n"
          ]
        }
      ]
    },
    {
      "cell_type": "code",
      "source": [
        "#CSV file Location\n",
        "path = '/content/drive/MyDrive/Hotel Bookings.csv'"
      ],
      "metadata": {
        "id": "vLSh5q80hOFw"
      },
      "execution_count": 4,
      "outputs": []
    },
    {
      "cell_type": "markdown",
      "source": [
        "###**Reading Data in Notebook**"
      ],
      "metadata": {
        "id": "o0rqzG5Sf-kn"
      }
    },
    {
      "cell_type": "code",
      "source": [
        "#reading csv file \n",
        "Hotel_bookings_df = pd.read_csv(path)"
      ],
      "metadata": {
        "id": "fMvp-8Xehgg1"
      },
      "execution_count": 5,
      "outputs": []
    }
  ]
}